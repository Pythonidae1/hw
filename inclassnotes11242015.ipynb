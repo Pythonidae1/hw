{
 "cells": [
  {
   "cell_type": "code",
   "execution_count": null,
   "metadata": {
    "collapsed": true
   },
   "outputs": [],
   "source": [
    "   \"**classwork from module 1**\\n\",\n",
    "    \"\\n\",\n",
    "    \"* use euler method (first order method)\\n\",\n",
    "    \"* convergance\\n\",\n",
    "    \"* runga kutta (second order method) (add more orders)\\n\",\n",
    "    \"* convergance\\n\",\n",
    "    \"* leapfrog\\n\",\n",
    "    \"* convergence\\n\",\n",
    "    \"\\n\",\n",
    "    \"* add adiitional method?\\n\",\n",
    "    \"\\n\",\n",
    "    \"* discontinuities set the derivitative equal to sero? look into this\\n\",\n",
    "    \"\\n\",\n",
    "    \"* add additional methods\\n\",\n",
    "    \"\\n\",\n",
    "    \"\\n\",\n",
    "    \"* ?use a demand acc,vel,position profile and solve polynomial I(t) analytically.  then use the I(t) as the input and use mulitple methods to compare the profile output of each method to the demand solution... show errors.?\\n\",\n",
    "    \"\\n\",\n",
    "    \"* use docstrings triple quote ### to have help for functions\\n\",\n",
    "    \"\\n\",\n",
    "    \"\\n\",\n",
    "    \"\\n\",\n",
    "    \"post to Piazza Draft by Dec 8 for Review\\n\""
   ]
  }
 ],
 "metadata": {
  "kernelspec": {
   "display_name": "Python 3",
   "language": "python",
   "name": "python3"
  },
  "language_info": {
   "codemirror_mode": {
    "name": "ipython",
    "version": 3
   },
   "file_extension": ".py",
   "mimetype": "text/x-python",
   "name": "python",
   "nbconvert_exporter": "python",
   "pygments_lexer": "ipython3",
   "version": "3.4.3"
  }
 },
 "nbformat": 4,
 "nbformat_minor": 0
}
