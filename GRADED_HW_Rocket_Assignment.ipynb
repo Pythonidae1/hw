{
 "cells": [
  {
   "cell_type": "code",
   "execution_count": 68,
   "metadata": {
    "collapsed": true
   },
   "outputs": [],
   "source": [
    "from math import sin, cos, log, pi\n",
    "import numpy\n",
    "from matplotlib import pyplot\n",
    "%matplotlib inline\n",
    "from matplotlib import rcParams\n",
    "rcParams['font.family'] = 'serif'\n",
    "rcParams['font.size'] = 16"
   ]
  },
  {
   "cell_type": "code",
   "execution_count": 69,
   "metadata": {
    "collapsed": false
   },
   "outputs": [
    {
     "data": {
      "text/plain": [
       "6.2619047619047619"
      ]
     },
     "execution_count": 69,
     "metadata": {},
     "output_type": "execute_result"
    }
   ],
   "source": [
    "output = numpy.linspace(4,23,43)\n",
    "output[5]"
   ]
  },
  {
   "cell_type": "code",
   "execution_count": 70,
   "metadata": {
    "collapsed": false
   },
   "outputs": [],
   "source": [
    "p = 7\n",
    "r = numpy.array([11.2, 4.7, 6.6])"
   ]
  },
  {
   "cell_type": "code",
   "execution_count": 71,
   "metadata": {
    "collapsed": false
   },
   "outputs": [
    {
     "data": {
      "text/plain": [
       "array([ 0.20030151,  0.99009101,  0.66454238])"
      ]
     },
     "execution_count": 71,
     "metadata": {},
     "output_type": "execute_result"
    }
   ],
   "source": [
    "(numpy.sin(numpy.divide(p,r)))**3"
   ]
  },
  {
   "cell_type": "code",
   "execution_count": 72,
   "metadata": {
    "collapsed": false
   },
   "outputs": [
    {
     "data": {
      "text/plain": [
       "0.9900910096418035"
      ]
     },
     "execution_count": 72,
     "metadata": {},
     "output_type": "execute_result"
    }
   ],
   "source": [
    "(math.sin(7/4.7))**3\n"
   ]
  },
  {
   "cell_type": "code",
   "execution_count": 101,
   "metadata": {
    "collapsed": false
   },
   "outputs": [],
   "source": [
    " f11 =.01 * numpy.sum( numpy.abs(\\\n",
    "            1.6- 1.475))"
   ]
  },
  {
   "cell_type": "code",
   "execution_count": 103,
   "metadata": {
    "collapsed": false
   },
   "outputs": [],
   "source": [
    " f12 = .02 * numpy.sum( numpy.abs(\\\n",
    "            1.5- 1.475))"
   ]
  },
  {
   "cell_type": "code",
   "execution_count": 104,
   "metadata": {
    "collapsed": true
   },
   "outputs": [],
   "source": [
    " f13 = .02 * numpy.sum( numpy.abs(\\\n",
    "            1.475- 1.475))"
   ]
  },
  {
   "cell_type": "code",
   "execution_count": 106,
   "metadata": {
    "collapsed": false
   },
   "outputs": [],
   "source": [
    " f21 = .02 * numpy.sum( numpy.abs(\\\n",
    "            1.6- 1.475))"
   ]
  },
  {
   "cell_type": "code",
   "execution_count": 120,
   "metadata": {
    "collapsed": false
   },
   "outputs": [],
   "source": [
    "f22 =  .04 * numpy.sum( numpy.abs(\\\n",
    "            1.5- 1.475))"
   ]
  },
  {
   "cell_type": "code",
   "execution_count": 121,
   "metadata": {
    "collapsed": true
   },
   "outputs": [],
   "source": [
    "f23=f13\n",
    "f33=f13"
   ]
  },
  {
   "cell_type": "code",
   "execution_count": 122,
   "metadata": {
    "collapsed": false
   },
   "outputs": [],
   "source": [
    " f31 = .04 * numpy.sum( numpy.abs(\\\n",
    "            1.6- 1.475))"
   ]
  },
  {
   "cell_type": "code",
   "execution_count": 123,
   "metadata": {
    "collapsed": true
   },
   "outputs": [],
   "source": [
    " f32 = .04 * numpy.sum( numpy.abs(\\\n",
    "            1.5- 1.475))"
   ]
  },
  {
   "cell_type": "code",
   "execution_count": 124,
   "metadata": {
    "collapsed": false,
    "scrolled": true
   },
   "outputs": [
    {
     "data": {
      "text/plain": [
       "-0.5849625007211644"
      ]
     },
     "execution_count": 124,
     "metadata": {},
     "output_type": "execute_result"
    }
   ],
   "source": [
    "(log((f13-f12)/(f12-f11)))/(log(2))"
   ]
  },
  {
   "cell_type": "code",
   "execution_count": 125,
   "metadata": {
    "collapsed": false
   },
   "outputs": [
    {
     "data": {
      "text/plain": [
       "-1.2493363364878235e-14"
      ]
     },
     "execution_count": 125,
     "metadata": {},
     "output_type": "execute_result"
    }
   ],
   "source": [
    "(log((f23-f22)/(f22-f21)))/(log(2))"
   ]
  },
  {
   "cell_type": "code",
   "execution_count": 126,
   "metadata": {
    "collapsed": false
   },
   "outputs": [
    {
     "data": {
      "text/plain": [
       "-2.000000000000006"
      ]
     },
     "execution_count": 126,
     "metadata": {},
     "output_type": "execute_result"
    }
   ],
   "source": [
    "(log((f33-f32)/(f32-f31)))/(log(2))"
   ]
  },
  {
   "cell_type": "markdown",
   "metadata": {},
   "source": [
    "**This is the EXAM CODE for section *01_ROCKET_ASSIGNMENT*.**"
   ]
  },
  {
   "cell_type": "markdown",
   "metadata": {},
   "source": [
    "The equations of motion for a rocket in purely vertical flight are given by\n",
    "\n",
    "\\begin{align}\n",
    "\\frac{dh}{dt} &= v\\\\\n",
    "(m_s+m_p) \\frac{dv}{dt}& = -(m_s+m_p)g + \\dot{m}_pv_e - \\frac{1}{2}\\rho v|v|AC_D\n",
    "\\end{align}\n",
    "\n",
    "$h$ is the altitude of the rocket\n",
    "\n",
    "$m_s = 50kg$ is the weight of the rocket shell\n",
    "\n",
    "$g = 9.81 \\frac{m}{s^2}$\n",
    "\n",
    "$\\rho = 1.091 \\frac{kg}{m^3}$ is the average air density (assumed constant throughout flight)\n",
    "\n",
    "$A = \\pi r^2$ is the maximum cross sectional area of the rocket, where $r = 0.5 m$\n",
    "\n",
    "$v_e = 325 \\frac{m}{s}$ is the exhaust speed\n",
    "\n",
    "$C_D = 0.15 $ is the drag coefficient\n",
    "\n",
    "$m_{po} = 100 kg$ at time $t = 0$ is the initial weight of the rocket propellant\n",
    "\n",
    "The mass of the remaining propellant is given by:\n",
    "\n",
    "$$m_p = m_{po} - \\int^t_0 \\dot{m}_p d\\tau$$\n",
    "\n",
    "where $\\dot{m}_p$ is the time-varying burn rate given by the following figure:\n",
    "\n",
    "Propellant Burn Rate\n",
    "\n",
    "burn rate is constant $20 \\frac{kg}{s}$ from $t = 0$ to $t = 5$ seconds and then $0 \\frac{kg}{s}$ at $t >= 5$.\n",
    "\n",
    "Using Euler's method with a timestep of $\\Delta t=0.1s$, create a Python script to calculate the altitude and velocity of the rocket from launch until crash down.  \n",
    "\n",
    "\n",
    "\n",
    "\n"
   ]
  },
  {
   "cell_type": "markdown",
   "metadata": {},
   "source": [
    "##Assessment:\n",
    "\n",
    "To check your answers, you can register for [MAE 6286: Practical Numerical Methods with Python](http://openedx.seas.gwu.edu/courses/GW/MAE6286/2014_fall/about).\n",
    "\n",
    "1. At time $t=3.2s$, what is the mass (in kg) of rocket propellant remaining in the rocket?\n",
    "\n",
    "2. What is the maximum speed of the rocket in $\\frac{m}{s}$?\n",
    "    At what time does this occur (in seconds)? \n",
    "    What is the altitude at this time (in meters)? \n",
    "    \n",
    "3. What is the rocket's maximum altitude during flight (in meters)? At what time (in seconds) does this occur?\n",
    "\n",
    "4. At what time (in seconds) does the rocket impact the ground? What is the velocity of the rocket (in $\\frac{m}{s}$) at time of impact?"
   ]
  },
  {
   "cell_type": "code",
   "execution_count": 188,
   "metadata": {
    "collapsed": true
   },
   "outputs": [],
   "source": [
    "def f(u):\n",
    "    m_p = u[0]\n",
    "    b   = u[1]\n",
    "    v   = u[2]\n",
    "    h   = u[3]\n",
    "    \n",
    "    return numpy.array([-b0,\n",
    "                        0.0,\n",
    "                        (-(m_s+m_p)*g+b*v_e-.5*rho*v*abs(v)*a*C_D)/(m_s+m_p),\n",
    "                        v])\n",
    "\n",
    "def euler_step(u, f, dt):\n",
    "    return u + dt * f(u)"
   ]
  },
  {
   "cell_type": "code",
   "execution_count": 194,
   "metadata": {
    "collapsed": false
   },
   "outputs": [],
   "source": [
    "# model parameters:\n",
    "m_s = 50.0        # mass of rocket shell in kg\n",
    "g = 9.81        # gravity in m s^{-2}\n",
    "rho = 1.091     # average air density in kg m^{-3}\n",
    "r = .5          # radius of rocket in m\n",
    "a = math.pi*r*r # maximum cross section of rocket m^{2}\n",
    "v_e = 325.0       # exhaust velocity in m s^{-1}   \n",
    "C_D = 0.15       # drag coefficient\n",
    "mdot_p_stop= 5.0  # stop time for propellant burn rate\n",
    "\n",
    "### set initial conditions ###\n",
    "m_p0 = 100.0      # initial propelant mass in kg\n",
    "b0 = 20.0         # initial propelant burn rate in kg s^{-1}\n",
    "v0 = 0.0          # intital volcity in m s^{-1}\n",
    "h0 = 0.0          # initial rocket altitude in m\n",
    "\n",
    "T = 100\n",
    "dt = 0.0001\n",
    "N = int(T/dt)+1\n",
    "t = numpy.linspace(0.0, T, N)\n",
    "\n",
    "u = numpy.zeros((N, 4))\n",
    "u[0] = numpy.array([m_p0, b0, v0, h0])\n",
    "\n",
    "for n in range(N-1):\n",
    "    if n<int(mdot_p_stop/dt+1):\n",
    "        u[n+1] = euler_step(u[n], f, dt)\n",
    "        \n",
    "    else:\n",
    "        u[n,0]=0.0 \n",
    "        u[n,1]=0.0\n",
    "        u[n+1] = euler_step(u[n], f, dt)\n",
    "        u[n+1,0]=0.0 \n",
    "        u[n+1,1]=0.0\n",
    "    if u[n,3]<0:\n",
    "        stop_time=n*dt\n",
    "        break"
   ]
  },
  {
   "cell_type": "code",
   "execution_count": 195,
   "metadata": {
    "collapsed": false,
    "scrolled": true
   },
   "outputs": [
    {
     "data": {
      "image/png": "[encoded data removed]",
      "text/plain": [
       "<matplotlib.figure.Figure at 0x7f6d21793b70>"
      ]
     },
     "metadata": {},
     "output_type": "display_data"
    }
   ],
   "source": [
    "ymax= numpy.amax(u[:,0]);\n",
    "ymin= numpy.amin(u[:,0]);\n",
    "xmax= stop_time\n",
    "pyplot.figure(figsize=(10,6))   #set plot size\n",
    "pyplot.xlim(0,xmax)             #y-axis plot limits\n",
    "pyplot.ylim(ymin,ymax)             #y-axis plot limits\n",
    "pyplot.tick_params(axis='both', labelsize=14) #increase font size for ticks\n",
    "pyplot.xlabel('Time, $t$ in seconds', fontsize=20) #x label\n",
    "pyplot.ylabel('Mass of Propellant, $m_{po}$ in kg', fontsize=20) #y label\n",
    "pyplot.plot(t,u[:,0], 'k-');"
   ]
  },
  {
   "cell_type": "code",
   "execution_count": 201,
   "metadata": {
    "collapsed": false,
    "scrolled": true
   },
   "outputs": [
    {
     "data": {
      "image/png": "[encoded data removed]",
      "text/plain": [
       "<matplotlib.figure.Figure at 0x7f6d218cd320>"
      ]
     },
     "metadata": {},
     "output_type": "display_data"
    }
   ],
   "source": [
    "ymax= numpy.amax(u[:,1]);\n",
    "ymin= numpy.amin(u[:,1]);\n",
    "xmax= stop_time\n",
    "pyplot.figure(figsize=(10,6))   #set plot size\n",
    "pyplot.xlim(0,xmax)             #y-axis plot limits\n",
    "pyplot.ylim(ymin-1,ymax+1)             #y-axis plot limits\n",
    "pyplot.tick_params(axis='both', labelsize=14) #increase font size for ticks\n",
    "pyplot.xlabel('Time, $t$ in seconds', fontsize=20) #x label\n",
    "pyplot.ylabel('Propellant Burn Rate, $\\dot{m}_{p}$ in kg/s', fontsize=20) #y label\n",
    "pyplot.plot(t,u[:,1], 'k-');"
   ]
  },
  {
   "cell_type": "code",
   "execution_count": 206,
   "metadata": {
    "collapsed": false
   },
   "outputs": [
    {
     "data": {
      "image/png": "[encoded data removed]",
      "text/plain": [
       "<matplotlib.figure.Figure at 0x7f6d21d5b7b8>"
      ]
     },
     "metadata": {},
     "output_type": "display_data"
    }
   ],
   "source": [
    "ymax= numpy.amax(u[:,2]);\n",
    "ymin= numpy.amin(u[:,2]);\n",
    "xmax= stop_time\n",
    "pyplot.figure(figsize=(10,6))   #set plot size\n",
    "pyplot.xlim(0,xmax)             #y-axis plot limits\n",
    "pyplot.ylim(ymin,ymax)             #y-axis plot limits\n",
    "pyplot.tick_params(axis='both', labelsize=14) #increase font size for ticks\n",
    "pyplot.xlabel('Time, $t$ in seconds', fontsize=20) #x label\n",
    "pyplot.ylabel('Velocity, $v$ a.k.a. $\\dot{h}$ in m/s', fontsize=20) #y label\n",
    "pyplot.plot(t,u[:,2], 'k-');"
   ]
  },
  {
   "cell_type": "code",
   "execution_count": 198,
   "metadata": {
    "collapsed": false
   },
   "outputs": [
    {
     "data": {
      "image/png": "[encoded data removed]",
      "text/plain": [
       "<matplotlib.figure.Figure at 0x7f6d23e28dd8>"
      ]
     },
     "metadata": {},
     "output_type": "display_data"
    }
   ],
   "source": [
    "ymax= numpy.amax(u[:,3]);\n",
    "ymin= numpy.amin(u[:,3]);\n",
    "xmax= stop_time\n",
    "pyplot.figure(figsize=(10,6))   #set plot size\n",
    "pyplot.xlim(0,xmax)             #y-axis plot limits\n",
    "pyplot.ylim(ymin,ymax)             #y-axis plot limits\n",
    "pyplot.tick_params(axis='both', labelsize=14) #increase font size for ticks\n",
    "pyplot.xlabel('Time, $t$ in seconds', fontsize=20) #x label\n",
    "pyplot.ylabel('Altitude, $h$ in m', fontsize=20) #y label\n",
    "pyplot.plot(t,u[:,3], 'k-');"
   ]
  },
  {
   "cell_type": "code",
   "execution_count": 200,
   "metadata": {
    "collapsed": false
   },
   "outputs": [
    {
     "name": "stdout",
     "output_type": "stream",
     "text": [
      "The remaining mass of rocket propellant at 3.2 seconds is 36.0 kg. \n",
      " The maximum velocity of the rocket is 232.447426198 meters per second occuring at a time of 5.000100000000001 seconds and an altitude of 537.677942775 meters. \n",
      " The maximum altitude of the rocket is 1350.44069732 meters occuring at a time of 15.7873 seconds. The rocket impacts the ground at 37.3478 seconds with a velocity of -85.9958855311 meters per second.\n"
     ]
    }
   ],
   "source": [
    "q1 = u[int(3.2/dt),0]\n",
    "\n",
    "q21 = numpy.amax(u[:,2]);\n",
    "findq2 = numpy.where(u==q21)\n",
    "findt2 = int(findq2[0])\n",
    "q22 = findt2*dt\n",
    "q23 = u[findt2,3]\n",
    "\n",
    "q31 = numpy.amax(u[:,3]);\n",
    "findq3 = numpy.where(u==q31)\n",
    "findt3 = int(findq3[0])\n",
    "q32 = findt3*dt\n",
    "\n",
    "q41 = stop_time\n",
    "q42 = u[int(q41/dt),2]\n",
    "\n",
    "print(\"The remaining mass of rocket propellant at 3.2 seconds is\", q1, \"kg. \\n The maximum velocity of the rocket is\", q21, \"meters per second occuring at a time of\",q22,\"seconds and an altitude of\",q23,\"meters. \\n The maximum altitude of the rocket is\", q31, \"meters occuring at a time of\",q32,\"seconds. The rocket impacts the ground at\", q41, \"seconds with a velocity of\",q42,\"meters per second.\")"
   ]
  }
 ],
 "metadata": {
  "kernelspec": {
   "display_name": "Python 3",
   "language": "python",
   "name": "python3"
  },
  "language_info": {
   "codemirror_mode": {
    "name": "ipython",
    "version": 3
   },
   "file_extension": ".py",
   "mimetype": "text/x-python",
   "name": "python",
   "nbconvert_exporter": "python",
   "pygments_lexer": "ipython3",
   "version": "3.4.3"
  }
 },
 "nbformat": 4,
 "nbformat_minor": 0
}
