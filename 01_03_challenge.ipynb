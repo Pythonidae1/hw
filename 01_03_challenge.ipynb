{
 "cells": [
  {
   "cell_type": "markdown",
   "metadata": {},
   "source": [
    "**This is the hw CHALLENGE for section *01_03 PhugoidFullModel*.**"
   ]
  },
  {
   "cell_type": "markdown",
   "metadata": {
    "collapsed": true
   },
   "source": [
    "# Paper airplane challenge"
   ]
  },
  {
   "cell_type": "markdown",
   "metadata": {},
   "source": [
    "Suppose you wanted to participate in a paper-airplane competition, and you want to use what you know about the phugoid model to improve your chances. For a given value of $L/D$ that you can obtain in your design, you want to know what is the best initial velocity and launch angle to fly the longest distance from a given height.\n",
    "\n",
    "Using the phugoid model, write a new code to analyze the flight of a paper airplane, with the following conditions:\n",
    "\n",
    "*  Assume $L/D$ of 5.0 (a value close to measurements in Feng et al. 2009)\n",
    "*  For the trim velocity, let's take an average value of 4.9 m/s.\n",
    "*  Find a combination of launch angle and velocity that gives the best distance.\n",
    "*  Think about how you will know when the flight needs to stop ... this will influence how you organize the code.\n",
    "*  How can you check if your answer is realistic?"
   ]
  },
  {
   "cell_type": "code",
   "execution_count": null,
   "metadata": {
    "collapsed": true
   },
   "outputs": [],
   "source": []
  }
 ],
 "metadata": {
  "kernelspec": {
   "display_name": "Python 3",
   "language": "python",
   "name": "python3"
  },
  "language_info": {
   "codemirror_mode": {
    "name": "ipython",
    "version": 3
   },
   "file_extension": ".py",
   "mimetype": "text/x-python",
   "name": "python",
   "nbconvert_exporter": "python",
   "pygments_lexer": "ipython3",
   "version": "3.4.3"
  }
 },
 "nbformat": 4,
 "nbformat_minor": 0
}
